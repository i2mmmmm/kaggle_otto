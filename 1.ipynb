{
 "cells": [
  {
   "cell_type": "code",
   "execution_count": 1,
   "metadata": {},
   "outputs": [],
   "source": [
    "import pandas as pd\n",
    "import json\n",
    "import csv\n",
    "import polars as pl\n",
    "from io import StringIO\n",
    "#!pip install polars"
   ]
  },
  {
   "cell_type": "code",
   "execution_count": 4,
   "metadata": {},
   "outputs": [],
   "source": [
    "# with open('test.jsonl', encoding='utf-8') as file:\n",
    "#     test = file.readlines()\n",
    "# # train 셋 가져오기\n",
    "\n",
    "# slice_size = 1_000_000\n",
    "# df = pl.concat(\n",
    "#     [\n",
    "#         pl.read_json(\n",
    "#             StringIO(\"\".join(test[offset: (offset + slice_size)])),\n",
    "#             json_lines=True,\n",
    "#         )\n",
    "#         for offset in range(0, len(test), slice_size)\n",
    "#     ]\n",
    "# )\n",
    "# #converting struct of events in 3 columns(aid,ts,type) \n",
    "# test=df.explode('events').unnest('events')\n",
    "# # event 쪼개주기"
   ]
  },
  {
   "cell_type": "code",
   "execution_count": 11,
   "metadata": {},
   "outputs": [],
   "source": [
    "train_1 = pd.DataFrame()\n",
    "chunks = pd.read_json('train.jsonl', lines=True, chunksize=500000)\n",
    "\n",
    "for e, chunk in enumerate(chunks):\n",
    "    event_dict = {\n",
    "        'session': [],\n",
    "        'aid': [],\n",
    "        'ts': [],\n",
    "        'type': [],\n",
    "    }\n",
    "    if e < 2:\n",
    "        # train_1 = pd.concat([train_sessions, chunk])\n",
    "        for session, events in zip(chunk['session'].tolist(), chunk['events'].tolist()):\n",
    "            for event in events:\n",
    "                event_dict['session'].append(session)\n",
    "                event_dict['aid'].append(event['aid'])\n",
    "                event_dict['ts'].append(event['ts'])\n",
    "                event_dict['type'].append(event['type'])\n",
    "        chunk_session = pd.DataFrame(event_dict)\n",
    "        train_1 = pd.concat([train_1, chunk_session])\n",
    "    else:\n",
    "        break\n",
    "        \n",
    "train_1 = train_1.reset_index(drop=True)"
   ]
  },
  {
   "cell_type": "code",
   "execution_count": 8,
   "metadata": {},
   "outputs": [
    {
     "data": {
      "text/html": [
       "<div>\n",
       "<style scoped>\n",
       "    .dataframe tbody tr th:only-of-type {\n",
       "        vertical-align: middle;\n",
       "    }\n",
       "\n",
       "    .dataframe tbody tr th {\n",
       "        vertical-align: top;\n",
       "    }\n",
       "\n",
       "    .dataframe thead th {\n",
       "        text-align: right;\n",
       "    }\n",
       "</style>\n",
       "<table border=\"1\" class=\"dataframe\">\n",
       "  <thead>\n",
       "    <tr style=\"text-align: right;\">\n",
       "      <th></th>\n",
       "      <th>session</th>\n",
       "      <th>aid</th>\n",
       "      <th>ts</th>\n",
       "      <th>type</th>\n",
       "    </tr>\n",
       "  </thead>\n",
       "  <tbody>\n",
       "    <tr>\n",
       "      <th>10285556</th>\n",
       "      <td>199999</td>\n",
       "      <td>928064</td>\n",
       "      <td>1659336408967</td>\n",
       "      <td>clicks</td>\n",
       "    </tr>\n",
       "    <tr>\n",
       "      <th>10285557</th>\n",
       "      <td>199999</td>\n",
       "      <td>849970</td>\n",
       "      <td>1659336449078</td>\n",
       "      <td>clicks</td>\n",
       "    </tr>\n",
       "    <tr>\n",
       "      <th>10285558</th>\n",
       "      <td>199999</td>\n",
       "      <td>1052480</td>\n",
       "      <td>1659336547035</td>\n",
       "      <td>clicks</td>\n",
       "    </tr>\n",
       "    <tr>\n",
       "      <th>10285559</th>\n",
       "      <td>199999</td>\n",
       "      <td>487255</td>\n",
       "      <td>1659336561116</td>\n",
       "      <td>clicks</td>\n",
       "    </tr>\n",
       "    <tr>\n",
       "      <th>10285560</th>\n",
       "      <td>199999</td>\n",
       "      <td>1138833</td>\n",
       "      <td>1659336575075</td>\n",
       "      <td>clicks</td>\n",
       "    </tr>\n",
       "  </tbody>\n",
       "</table>\n",
       "</div>"
      ],
      "text/plain": [
       "          session      aid             ts    type\n",
       "10285556   199999   928064  1659336408967  clicks\n",
       "10285557   199999   849970  1659336449078  clicks\n",
       "10285558   199999  1052480  1659336547035  clicks\n",
       "10285559   199999   487255  1659336561116  clicks\n",
       "10285560   199999  1138833  1659336575075  clicks"
      ]
     },
     "execution_count": 8,
     "metadata": {},
     "output_type": "execute_result"
    }
   ],
   "source": [
    "train_1.tail()\n",
    "#chunk_size = 100_000 일 때"
   ]
  },
  {
   "cell_type": "code",
   "execution_count": 10,
   "metadata": {},
   "outputs": [
    {
     "data": {
      "text/html": [
       "<div>\n",
       "<style scoped>\n",
       "    .dataframe tbody tr th:only-of-type {\n",
       "        vertical-align: middle;\n",
       "    }\n",
       "\n",
       "    .dataframe tbody tr th {\n",
       "        vertical-align: top;\n",
       "    }\n",
       "\n",
       "    .dataframe thead th {\n",
       "        text-align: right;\n",
       "    }\n",
       "</style>\n",
       "<table border=\"1\" class=\"dataframe\">\n",
       "  <thead>\n",
       "    <tr style=\"text-align: right;\">\n",
       "      <th></th>\n",
       "      <th>session</th>\n",
       "      <th>aid</th>\n",
       "      <th>ts</th>\n",
       "      <th>type</th>\n",
       "    </tr>\n",
       "  </thead>\n",
       "  <tbody>\n",
       "    <tr>\n",
       "      <th>18739942</th>\n",
       "      <td>399999</td>\n",
       "      <td>680003</td>\n",
       "      <td>1661371629957</td>\n",
       "      <td>clicks</td>\n",
       "    </tr>\n",
       "    <tr>\n",
       "      <th>18739943</th>\n",
       "      <td>399999</td>\n",
       "      <td>1810497</td>\n",
       "      <td>1661371643038</td>\n",
       "      <td>clicks</td>\n",
       "    </tr>\n",
       "    <tr>\n",
       "      <th>18739944</th>\n",
       "      <td>399999</td>\n",
       "      <td>1810497</td>\n",
       "      <td>1661703105912</td>\n",
       "      <td>clicks</td>\n",
       "    </tr>\n",
       "    <tr>\n",
       "      <th>18739945</th>\n",
       "      <td>399999</td>\n",
       "      <td>1073953</td>\n",
       "      <td>1661703159544</td>\n",
       "      <td>clicks</td>\n",
       "    </tr>\n",
       "    <tr>\n",
       "      <th>18739946</th>\n",
       "      <td>399999</td>\n",
       "      <td>1810497</td>\n",
       "      <td>1661703468824</td>\n",
       "      <td>clicks</td>\n",
       "    </tr>\n",
       "  </tbody>\n",
       "</table>\n",
       "</div>"
      ],
      "text/plain": [
       "          session      aid             ts    type\n",
       "18739942   399999   680003  1661371629957  clicks\n",
       "18739943   399999  1810497  1661371643038  clicks\n",
       "18739944   399999  1810497  1661703105912  clicks\n",
       "18739945   399999  1073953  1661703159544  clicks\n",
       "18739946   399999  1810497  1661703468824  clicks"
      ]
     },
     "execution_count": 10,
     "metadata": {},
     "output_type": "execute_result"
    }
   ],
   "source": [
    "train_1.tail()\n",
    "#chunk_size = 200000 일 때 (5-10분)"
   ]
  },
  {
   "cell_type": "code",
   "execution_count": 12,
   "metadata": {},
   "outputs": [
    {
     "data": {
      "text/html": [
       "<div>\n",
       "<style scoped>\n",
       "    .dataframe tbody tr th:only-of-type {\n",
       "        vertical-align: middle;\n",
       "    }\n",
       "\n",
       "    .dataframe tbody tr th {\n",
       "        vertical-align: top;\n",
       "    }\n",
       "\n",
       "    .dataframe thead th {\n",
       "        text-align: right;\n",
       "    }\n",
       "</style>\n",
       "<table border=\"1\" class=\"dataframe\">\n",
       "  <thead>\n",
       "    <tr style=\"text-align: right;\">\n",
       "      <th></th>\n",
       "      <th>session</th>\n",
       "      <th>aid</th>\n",
       "      <th>ts</th>\n",
       "      <th>type</th>\n",
       "    </tr>\n",
       "  </thead>\n",
       "  <tbody>\n",
       "    <tr>\n",
       "      <th>39889595</th>\n",
       "      <td>999999</td>\n",
       "      <td>53921</td>\n",
       "      <td>1659464388426</td>\n",
       "      <td>clicks</td>\n",
       "    </tr>\n",
       "    <tr>\n",
       "      <th>39889596</th>\n",
       "      <td>999999</td>\n",
       "      <td>729903</td>\n",
       "      <td>1659464422467</td>\n",
       "      <td>clicks</td>\n",
       "    </tr>\n",
       "    <tr>\n",
       "      <th>39889597</th>\n",
       "      <td>999999</td>\n",
       "      <td>53921</td>\n",
       "      <td>1659464475617</td>\n",
       "      <td>clicks</td>\n",
       "    </tr>\n",
       "    <tr>\n",
       "      <th>39889598</th>\n",
       "      <td>999999</td>\n",
       "      <td>1839535</td>\n",
       "      <td>1659464828905</td>\n",
       "      <td>clicks</td>\n",
       "    </tr>\n",
       "    <tr>\n",
       "      <th>39889599</th>\n",
       "      <td>999999</td>\n",
       "      <td>31572</td>\n",
       "      <td>1660932273406</td>\n",
       "      <td>clicks</td>\n",
       "    </tr>\n",
       "  </tbody>\n",
       "</table>\n",
       "</div>"
      ],
      "text/plain": [
       "          session      aid             ts    type\n",
       "39889595   999999    53921  1659464388426  clicks\n",
       "39889596   999999   729903  1659464422467  clicks\n",
       "39889597   999999    53921  1659464475617  clicks\n",
       "39889598   999999  1839535  1659464828905  clicks\n",
       "39889599   999999    31572  1660932273406  clicks"
      ]
     },
     "execution_count": 12,
     "metadata": {},
     "output_type": "execute_result"
    }
   ],
   "source": [
    "train_1.tail()\n",
    "#chunk_size = 500000 일 때 (38분)"
   ]
  },
  {
   "cell_type": "code",
   "execution_count": null,
   "metadata": {},
   "outputs": [],
   "source": [
    "train_1.to_csv('train1.csv',index=False,header = True)\n",
    "#train_1 꺼내기"
   ]
  },
  {
   "cell_type": "code",
   "execution_count": 10,
   "metadata": {},
   "outputs": [],
   "source": [
    "# with open ('test.jsonl', encoding='utf-8') as file:\n",
    "#   test = [json.loads(line) for line in file]"
   ]
  },
  {
   "cell_type": "code",
   "execution_count": 2,
   "metadata": {},
   "outputs": [],
   "source": [
    "test = pd.DataFrame()\n",
    "chunks = pd.read_json('test.jsonl', lines=True, chunksize=100_000)\n",
    "\n",
    "for e, chunk in enumerate(chunks):\n",
    "    event_dict = {\n",
    "        'session': [],\n",
    "        'aid': [],\n",
    "        'ts': [],\n",
    "        'type': [],\n",
    "    }\n",
    "    if e < 2:\n",
    "        for session, events in zip(chunk['session'].tolist(), chunk['events'].tolist()):\n",
    "            for event in events:\n",
    "                event_dict['session'].append(session)\n",
    "                event_dict['aid'].append(event['aid'])\n",
    "                event_dict['ts'].append(event['ts'])\n",
    "                event_dict['type'].append(event['type'])\n",
    "        chunk_session = pd.DataFrame(event_dict)\n",
    "        test = pd.concat([test, chunk_session])\n",
    "    else:\n",
    "        break\n",
    "        \n",
    "test = test.reset_index(drop=True)"
   ]
  },
  {
   "cell_type": "code",
   "execution_count": 3,
   "metadata": {},
   "outputs": [],
   "source": [
    "test.to_csv('test.csv',index=False,header = True)\n",
    "# test 꺼내기"
   ]
  }
 ],
 "metadata": {
  "kernelspec": {
   "display_name": "base",
   "language": "python",
   "name": "python3"
  },
  "language_info": {
   "codemirror_mode": {
    "name": "ipython",
    "version": 3
   },
   "file_extension": ".py",
   "mimetype": "text/x-python",
   "name": "python",
   "nbconvert_exporter": "python",
   "pygments_lexer": "ipython3",
   "version": "3.9.12 (main, Apr  4 2022, 05:22:27) [MSC v.1916 64 bit (AMD64)]"
  },
  "orig_nbformat": 4,
  "vscode": {
   "interpreter": {
    "hash": "dbce3ab015948f9d7a38d0a4c6629e1339f6d90306f3d65fd7273a0ce3b29204"
   }
  }
 },
 "nbformat": 4,
 "nbformat_minor": 2
}
