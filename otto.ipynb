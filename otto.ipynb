{
  "nbformat": 4,
  "nbformat_minor": 0,
  "metadata": {
    "colab": {
      "provenance": [],
      "authorship_tag": "ABX9TyO3570JogEN1VbvmVZeipK9",
      "include_colab_link": true
    },
    "kernelspec": {
      "name": "python3",
      "display_name": "Python 3"
    },
    "language_info": {
      "name": "python"
    },
    "accelerator": "TPU",
    "gpuClass": "standard"
  },
  "cells": [
    {
      "cell_type": "markdown",
      "metadata": {
        "id": "view-in-github",
        "colab_type": "text"
      },
      "source": [
        "<a href=\"https://colab.research.google.com/github/i2mmmmm/kaggle_otto/blob/main/otto.ipynb\" target=\"_parent\"><img src=\"https://colab.research.google.com/assets/colab-badge.svg\" alt=\"Open In Colab\"/></a>"
      ]
    },
    {
      "cell_type": "code",
      "execution_count": null,
      "metadata": {
        "id": "F7smF52NRBek"
      },
      "outputs": [],
      "source": [
        "!pip install kaggle --upgrade"
      ]
    },
    {
      "cell_type": "code",
      "source": [
        "import os\n",
        "\n",
        "os.environ['KAGGLE_USERNAME'] = 'mmmmmlee'\n",
        "os.environ['KAGGLE_KEY'] = 'b4527f98e27813c6dae3fb199096dcb5'"
      ],
      "metadata": {
        "id": "dTtoPocQTfFC"
      },
      "execution_count": 1,
      "outputs": []
    },
    {
      "cell_type": "code",
      "source": [
        "!kaggle -h\n",
        "# 잘 설치 되었는지 확인하기"
      ],
      "metadata": {
        "id": "xPdxC0bYTuF9"
      },
      "execution_count": null,
      "outputs": []
    },
    {
      "cell_type": "code",
      "source": [
        "!kaggle competitions download -c otto-recommender-system\n",
        "# 캐글 데이터 갖고오기"
      ],
      "metadata": {
        "colab": {
          "base_uri": "https://localhost:8080/"
        },
        "id": "8HGLw43AUF7K",
        "outputId": "e39e1571-73ef-46fe-baa1-47e592c7b7b8"
      },
      "execution_count": 2,
      "outputs": [
        {
          "output_type": "stream",
          "name": "stdout",
          "text": [
            "Downloading otto-recommender-system.zip to /content\n",
            " 99% 1.92G/1.94G [00:13<00:00, 148MB/s]\n",
            "100% 1.94G/1.94G [00:13<00:00, 154MB/s]\n"
          ]
        }
      ]
    },
    {
      "cell_type": "code",
      "source": [
        "!unzip 'otto-recommender-system.zip'\n",
        "# 압축 풀어주기"
      ],
      "metadata": {
        "colab": {
          "base_uri": "https://localhost:8080/"
        },
        "id": "ziY87ZrEUOqo",
        "outputId": "efe88613-2595-4354-8505-d95808b3e7b1"
      },
      "execution_count": 3,
      "outputs": [
        {
          "output_type": "stream",
          "name": "stdout",
          "text": [
            "Archive:  otto-recommender-system.zip\n",
            "  inflating: sample_submission.csv   \n",
            "  inflating: test.jsonl              \n",
            "  inflating: train.jsonl             \n"
          ]
        }
      ]
    },
    {
      "cell_type": "code",
      "source": [
        "!pip install jsonlines"
      ],
      "metadata": {
        "id": "1PFN-OUr-VqA"
      },
      "execution_count": null,
      "outputs": []
    },
    {
      "cell_type": "code",
      "source": [
        "!pip install polars"
      ],
      "metadata": {
        "colab": {
          "base_uri": "https://localhost:8080/"
        },
        "id": "7Zuw8RvngbA2",
        "outputId": "84ac3ccc-2f43-44b7-b8fe-78867ea4c212"
      },
      "execution_count": 6,
      "outputs": [
        {
          "output_type": "stream",
          "name": "stdout",
          "text": [
            "Looking in indexes: https://pypi.org/simple, https://us-python.pkg.dev/colab-wheels/public/simple/\n",
            "Collecting polars\n",
            "  Downloading polars-0.15.11-cp37-abi3-manylinux_2_17_x86_64.manylinux2014_x86_64.whl (14.6 MB)\n",
            "\u001b[2K     \u001b[90m━━━━━━━━━━━━━━━━━━━━━━━━━━━━━━━━━━━━━━━━\u001b[0m \u001b[32m14.6/14.6 MB\u001b[0m \u001b[31m63.5 MB/s\u001b[0m eta \u001b[36m0:00:00\u001b[0m\n",
            "\u001b[?25hRequirement already satisfied: typing_extensions>=4.0.0 in /usr/local/lib/python3.8/dist-packages (from polars) (4.4.0)\n",
            "Installing collected packages: polars\n",
            "Successfully installed polars-0.15.11\n"
          ]
        }
      ]
    },
    {
      "cell_type": "code",
      "source": [
        "import pandas as pd\n",
        "import json\n",
        "import csv\n",
        "import polars as pl\n",
        "from io import StringIO\n",
        "# import jsonlines\n"
      ],
      "metadata": {
        "id": "Bw0MaWrrUVsX"
      },
      "execution_count": 2,
      "outputs": []
    },
    {
      "cell_type": "code",
      "source": [
        "with open ('test.jsonl', encoding='utf-8') as file:\n",
        "  test = [json.loads(line) for line in file]"
      ],
      "metadata": {
        "id": "TLzm_4YoOk_S"
      },
      "execution_count": 3,
      "outputs": []
    },
    {
      "cell_type": "code",
      "source": [
        "test = pd.DataFrame(test)"
      ],
      "metadata": {
        "id": "M2iVfRJ0RdVS"
      },
      "execution_count": null,
      "outputs": []
    },
    {
      "cell_type": "code",
      "source": [
        "# data = []\n",
        "# with open('test.jsonl', encoding='utf-8') as f:\n",
        "#   for line in f:\n",
        "#     data.append(line)"
      ],
      "metadata": {
        "id": "vFgmrZNQeMS_"
      },
      "execution_count": null,
      "outputs": []
    },
    {
      "cell_type": "code",
      "source": [
        "# with open ('train.jsonl', encoding='utf-8') as file:\n",
        "#   train = [json.loads(line) for line in file]\n",
        "#   train = pd.DataFrame(train)\n",
        "#   train.head()\n",
        "# 용량이 커서 RAM 오류남"
      ],
      "metadata": {
        "id": "QiFjai2jKB33"
      },
      "execution_count": null,
      "outputs": []
    },
    {
      "cell_type": "code",
      "source": [
        "# with jsonlines.open('test.jsonl') as f:\n",
        "#   for line in f.iter():\n",
        "#     print(line['aid'])\n",
        "#     print(line['ts'])\n",
        "#     print(line['type'])"
      ],
      "metadata": {
        "id": "PxeuWTto9Mcc"
      },
      "execution_count": null,
      "outputs": []
    },
    {
      "cell_type": "code",
      "source": [
        "with open('test.jsonl', encoding='utf-8') as file:\n",
        "    test = file.readlines()\n",
        "# train 셋 가져오기"
      ],
      "metadata": {
        "id": "_Rz7XEIdfepS"
      },
      "execution_count": 5,
      "outputs": []
    },
    {
      "cell_type": "code",
      "source": [
        "slice_size = 1_000_000\n",
        "df = pl.concat(\n",
        "    [\n",
        "        pl.read_json(\n",
        "            StringIO(\"\".join(test[offset: (offset + slice_size)])),\n",
        "            json_lines=True,\n",
        "        )\n",
        "        for offset in range(0, len(test), slice_size)\n",
        "    ]\n",
        ")\n",
        "#converting struct of events in 3 columns(aid,ts,type) \n",
        "test=df.explode('events').unnest('events')\n",
        "# event 쪼개주기"
      ],
      "metadata": {
        "id": "TJcHo4NmfufX"
      },
      "execution_count": 6,
      "outputs": []
    },
    {
      "cell_type": "code",
      "source": [
        "test.head()"
      ],
      "metadata": {
        "colab": {
          "base_uri": "https://localhost:8080/",
          "height": 231
        },
        "id": "K46kJceHf8uw",
        "outputId": "5a034e4e-47a0-4758-c129-26ab88db5e2e"
      },
      "execution_count": 7,
      "outputs": [
        {
          "output_type": "execute_result",
          "data": {
            "text/plain": [
              "shape: (5, 4)\n",
              "┌──────────┬─────────┬───────────────┬────────┐\n",
              "│ session  ┆ aid     ┆ ts            ┆ type   │\n",
              "│ ---      ┆ ---     ┆ ---           ┆ ---    │\n",
              "│ i64      ┆ i64     ┆ i64           ┆ str    │\n",
              "╞══════════╪═════════╪═══════════════╪════════╡\n",
              "│ 12899779 ┆ 59625   ┆ 1661724000278 ┆ clicks │\n",
              "│ 12899780 ┆ 1142000 ┆ 1661724000378 ┆ clicks │\n",
              "│ 12899780 ┆ 582732  ┆ 1661724058352 ┆ clicks │\n",
              "│ 12899780 ┆ 973453  ┆ 1661724109199 ┆ clicks │\n",
              "│ 12899780 ┆ 736515  ┆ 1661724136868 ┆ clicks │\n",
              "└──────────┴─────────┴───────────────┴────────┘"
            ],
            "text/html": [
              "<div>\n",
              "<style scoped>\n",
              "    .dataframe tbody tr th:only-of-type {\n",
              "        vertical-align: middle;\n",
              "    }\n",
              "\n",
              "    .dataframe tbody tr th {\n",
              "        vertical-align: top;\n",
              "    }\n",
              "\n",
              "    .dataframe thead th {\n",
              "        text-align: right;\n",
              "    }\n",
              "\n",
              "    .dataframe td {\n",
              "        white-space: pre;\n",
              "    }\n",
              "\n",
              "    .dataframe td {\n",
              "        padding-top: 0;\n",
              "    }\n",
              "\n",
              "    .dataframe td {\n",
              "        padding-bottom: 0;\n",
              "    }\n",
              "\n",
              "    .dataframe td {\n",
              "        line-height: 95%;\n",
              "    }\n",
              "</style>\n",
              "<table border=\"1\" class=\"dataframe\">\n",
              "<small>shape: (5, 4)</small>\n",
              "<thead>\n",
              "<tr>\n",
              "<th>\n",
              "session\n",
              "</th>\n",
              "<th>\n",
              "aid\n",
              "</th>\n",
              "<th>\n",
              "ts\n",
              "</th>\n",
              "<th>\n",
              "type\n",
              "</th>\n",
              "</tr>\n",
              "<tr>\n",
              "<td>\n",
              "i64\n",
              "</td>\n",
              "<td>\n",
              "i64\n",
              "</td>\n",
              "<td>\n",
              "i64\n",
              "</td>\n",
              "<td>\n",
              "str\n",
              "</td>\n",
              "</tr>\n",
              "</thead>\n",
              "<tbody>\n",
              "<tr>\n",
              "<td>\n",
              "12899779\n",
              "</td>\n",
              "<td>\n",
              "59625\n",
              "</td>\n",
              "<td>\n",
              "1661724000278\n",
              "</td>\n",
              "<td>\n",
              "&quot;clicks&quot;\n",
              "</td>\n",
              "</tr>\n",
              "<tr>\n",
              "<td>\n",
              "12899780\n",
              "</td>\n",
              "<td>\n",
              "1142000\n",
              "</td>\n",
              "<td>\n",
              "1661724000378\n",
              "</td>\n",
              "<td>\n",
              "&quot;clicks&quot;\n",
              "</td>\n",
              "</tr>\n",
              "<tr>\n",
              "<td>\n",
              "12899780\n",
              "</td>\n",
              "<td>\n",
              "582732\n",
              "</td>\n",
              "<td>\n",
              "1661724058352\n",
              "</td>\n",
              "<td>\n",
              "&quot;clicks&quot;\n",
              "</td>\n",
              "</tr>\n",
              "<tr>\n",
              "<td>\n",
              "12899780\n",
              "</td>\n",
              "<td>\n",
              "973453\n",
              "</td>\n",
              "<td>\n",
              "1661724109199\n",
              "</td>\n",
              "<td>\n",
              "&quot;clicks&quot;\n",
              "</td>\n",
              "</tr>\n",
              "<tr>\n",
              "<td>\n",
              "12899780\n",
              "</td>\n",
              "<td>\n",
              "736515\n",
              "</td>\n",
              "<td>\n",
              "1661724136868\n",
              "</td>\n",
              "<td>\n",
              "&quot;clicks&quot;\n",
              "</td>\n",
              "</tr>\n",
              "</tbody>\n",
              "</table>\n",
              "</div>"
            ]
          },
          "metadata": {},
          "execution_count": 7
        }
      ]
    },
    {
      "cell_type": "code",
      "source": [
        "train_1 = pd.DataFrame()\n",
        "chunks = pd.read_json('train.jsonl', lines=True, chunksize=100_000)\n",
        "\n",
        "for e, chunk in enumerate(chunks):\n",
        "    event_dict = {\n",
        "        'session': [],\n",
        "        'aid': [],\n",
        "        'ts': [],\n",
        "        'type': [],\n",
        "    }\n",
        "    if e < 2:\n",
        "        # train_1 = pd.concat([train_sessions, chunk])\n",
        "        for session, events in zip(chunk['session'].tolist(), chunk['events'].tolist()):\n",
        "            for event in events:\n",
        "                event_dict['session'].append(session)\n",
        "                event_dict['aid'].append(event['aid'])\n",
        "                event_dict['ts'].append(event['ts'])\n",
        "                event_dict['type'].append(event['type'])\n",
        "        chunk_session = pd.DataFrame(event_dict)\n",
        "        train_1 = pd.concat([train_1, chunk_session])\n",
        "    else:\n",
        "        break\n",
        "        \n",
        "train_1 = train_1.reset_index(drop=True)"
      ],
      "metadata": {
        "id": "72onrbUlg55u"
      },
      "execution_count": 3,
      "outputs": []
    },
    {
      "cell_type": "code",
      "source": [
        "train_1"
      ],
      "metadata": {
        "colab": {
          "base_uri": "https://localhost:8080/",
          "height": 424
        },
        "id": "jL2kmBb5gcZY",
        "outputId": "f9eb5a4f-6df0-486a-ceb2-059c3ebf5eb1"
      },
      "execution_count": 4,
      "outputs": [
        {
          "output_type": "execute_result",
          "data": {
            "text/plain": [
              "          session      aid             ts    type\n",
              "0               0  1517085  1659304800025  clicks\n",
              "1               0  1563459  1659304904511  clicks\n",
              "2               0  1309446  1659367439426  clicks\n",
              "3               0    16246  1659367719997  clicks\n",
              "4               0  1781822  1659367871344  clicks\n",
              "...           ...      ...            ...     ...\n",
              "10285556   199999   928064  1659336408967  clicks\n",
              "10285557   199999   849970  1659336449078  clicks\n",
              "10285558   199999  1052480  1659336547035  clicks\n",
              "10285559   199999   487255  1659336561116  clicks\n",
              "10285560   199999  1138833  1659336575075  clicks\n",
              "\n",
              "[10285561 rows x 4 columns]"
            ],
            "text/html": [
              "\n",
              "  <div id=\"df-aa3c71c4-18df-44a2-b546-e11c9c5c142f\">\n",
              "    <div class=\"colab-df-container\">\n",
              "      <div>\n",
              "<style scoped>\n",
              "    .dataframe tbody tr th:only-of-type {\n",
              "        vertical-align: middle;\n",
              "    }\n",
              "\n",
              "    .dataframe tbody tr th {\n",
              "        vertical-align: top;\n",
              "    }\n",
              "\n",
              "    .dataframe thead th {\n",
              "        text-align: right;\n",
              "    }\n",
              "</style>\n",
              "<table border=\"1\" class=\"dataframe\">\n",
              "  <thead>\n",
              "    <tr style=\"text-align: right;\">\n",
              "      <th></th>\n",
              "      <th>session</th>\n",
              "      <th>aid</th>\n",
              "      <th>ts</th>\n",
              "      <th>type</th>\n",
              "    </tr>\n",
              "  </thead>\n",
              "  <tbody>\n",
              "    <tr>\n",
              "      <th>0</th>\n",
              "      <td>0</td>\n",
              "      <td>1517085</td>\n",
              "      <td>1659304800025</td>\n",
              "      <td>clicks</td>\n",
              "    </tr>\n",
              "    <tr>\n",
              "      <th>1</th>\n",
              "      <td>0</td>\n",
              "      <td>1563459</td>\n",
              "      <td>1659304904511</td>\n",
              "      <td>clicks</td>\n",
              "    </tr>\n",
              "    <tr>\n",
              "      <th>2</th>\n",
              "      <td>0</td>\n",
              "      <td>1309446</td>\n",
              "      <td>1659367439426</td>\n",
              "      <td>clicks</td>\n",
              "    </tr>\n",
              "    <tr>\n",
              "      <th>3</th>\n",
              "      <td>0</td>\n",
              "      <td>16246</td>\n",
              "      <td>1659367719997</td>\n",
              "      <td>clicks</td>\n",
              "    </tr>\n",
              "    <tr>\n",
              "      <th>4</th>\n",
              "      <td>0</td>\n",
              "      <td>1781822</td>\n",
              "      <td>1659367871344</td>\n",
              "      <td>clicks</td>\n",
              "    </tr>\n",
              "    <tr>\n",
              "      <th>...</th>\n",
              "      <td>...</td>\n",
              "      <td>...</td>\n",
              "      <td>...</td>\n",
              "      <td>...</td>\n",
              "    </tr>\n",
              "    <tr>\n",
              "      <th>10285556</th>\n",
              "      <td>199999</td>\n",
              "      <td>928064</td>\n",
              "      <td>1659336408967</td>\n",
              "      <td>clicks</td>\n",
              "    </tr>\n",
              "    <tr>\n",
              "      <th>10285557</th>\n",
              "      <td>199999</td>\n",
              "      <td>849970</td>\n",
              "      <td>1659336449078</td>\n",
              "      <td>clicks</td>\n",
              "    </tr>\n",
              "    <tr>\n",
              "      <th>10285558</th>\n",
              "      <td>199999</td>\n",
              "      <td>1052480</td>\n",
              "      <td>1659336547035</td>\n",
              "      <td>clicks</td>\n",
              "    </tr>\n",
              "    <tr>\n",
              "      <th>10285559</th>\n",
              "      <td>199999</td>\n",
              "      <td>487255</td>\n",
              "      <td>1659336561116</td>\n",
              "      <td>clicks</td>\n",
              "    </tr>\n",
              "    <tr>\n",
              "      <th>10285560</th>\n",
              "      <td>199999</td>\n",
              "      <td>1138833</td>\n",
              "      <td>1659336575075</td>\n",
              "      <td>clicks</td>\n",
              "    </tr>\n",
              "  </tbody>\n",
              "</table>\n",
              "<p>10285561 rows × 4 columns</p>\n",
              "</div>\n",
              "      <button class=\"colab-df-convert\" onclick=\"convertToInteractive('df-aa3c71c4-18df-44a2-b546-e11c9c5c142f')\"\n",
              "              title=\"Convert this dataframe to an interactive table.\"\n",
              "              style=\"display:none;\">\n",
              "        \n",
              "  <svg xmlns=\"http://www.w3.org/2000/svg\" height=\"24px\"viewBox=\"0 0 24 24\"\n",
              "       width=\"24px\">\n",
              "    <path d=\"M0 0h24v24H0V0z\" fill=\"none\"/>\n",
              "    <path d=\"M18.56 5.44l.94 2.06.94-2.06 2.06-.94-2.06-.94-.94-2.06-.94 2.06-2.06.94zm-11 1L8.5 8.5l.94-2.06 2.06-.94-2.06-.94L8.5 2.5l-.94 2.06-2.06.94zm10 10l.94 2.06.94-2.06 2.06-.94-2.06-.94-.94-2.06-.94 2.06-2.06.94z\"/><path d=\"M17.41 7.96l-1.37-1.37c-.4-.4-.92-.59-1.43-.59-.52 0-1.04.2-1.43.59L10.3 9.45l-7.72 7.72c-.78.78-.78 2.05 0 2.83L4 21.41c.39.39.9.59 1.41.59.51 0 1.02-.2 1.41-.59l7.78-7.78 2.81-2.81c.8-.78.8-2.07 0-2.86zM5.41 20L4 18.59l7.72-7.72 1.47 1.35L5.41 20z\"/>\n",
              "  </svg>\n",
              "      </button>\n",
              "      \n",
              "  <style>\n",
              "    .colab-df-container {\n",
              "      display:flex;\n",
              "      flex-wrap:wrap;\n",
              "      gap: 12px;\n",
              "    }\n",
              "\n",
              "    .colab-df-convert {\n",
              "      background-color: #E8F0FE;\n",
              "      border: none;\n",
              "      border-radius: 50%;\n",
              "      cursor: pointer;\n",
              "      display: none;\n",
              "      fill: #1967D2;\n",
              "      height: 32px;\n",
              "      padding: 0 0 0 0;\n",
              "      width: 32px;\n",
              "    }\n",
              "\n",
              "    .colab-df-convert:hover {\n",
              "      background-color: #E2EBFA;\n",
              "      box-shadow: 0px 1px 2px rgba(60, 64, 67, 0.3), 0px 1px 3px 1px rgba(60, 64, 67, 0.15);\n",
              "      fill: #174EA6;\n",
              "    }\n",
              "\n",
              "    [theme=dark] .colab-df-convert {\n",
              "      background-color: #3B4455;\n",
              "      fill: #D2E3FC;\n",
              "    }\n",
              "\n",
              "    [theme=dark] .colab-df-convert:hover {\n",
              "      background-color: #434B5C;\n",
              "      box-shadow: 0px 1px 3px 1px rgba(0, 0, 0, 0.15);\n",
              "      filter: drop-shadow(0px 1px 2px rgba(0, 0, 0, 0.3));\n",
              "      fill: #FFFFFF;\n",
              "    }\n",
              "  </style>\n",
              "\n",
              "      <script>\n",
              "        const buttonEl =\n",
              "          document.querySelector('#df-aa3c71c4-18df-44a2-b546-e11c9c5c142f button.colab-df-convert');\n",
              "        buttonEl.style.display =\n",
              "          google.colab.kernel.accessAllowed ? 'block' : 'none';\n",
              "\n",
              "        async function convertToInteractive(key) {\n",
              "          const element = document.querySelector('#df-aa3c71c4-18df-44a2-b546-e11c9c5c142f');\n",
              "          const dataTable =\n",
              "            await google.colab.kernel.invokeFunction('convertToInteractive',\n",
              "                                                     [key], {});\n",
              "          if (!dataTable) return;\n",
              "\n",
              "          const docLinkHtml = 'Like what you see? Visit the ' +\n",
              "            '<a target=\"_blank\" href=https://colab.research.google.com/notebooks/data_table.ipynb>data table notebook</a>'\n",
              "            + ' to learn more about interactive tables.';\n",
              "          element.innerHTML = '';\n",
              "          dataTable['output_type'] = 'display_data';\n",
              "          await google.colab.output.renderOutput(dataTable, element);\n",
              "          const docLink = document.createElement('div');\n",
              "          docLink.innerHTML = docLinkHtml;\n",
              "          element.appendChild(docLink);\n",
              "        }\n",
              "      </script>\n",
              "    </div>\n",
              "  </div>\n",
              "  "
            ]
          },
          "metadata": {},
          "execution_count": 4
        }
      ]
    }
  ]
}