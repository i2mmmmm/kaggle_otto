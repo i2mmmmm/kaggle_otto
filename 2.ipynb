{
 "cells": [
  {
   "cell_type": "code",
   "execution_count": 37,
   "metadata": {},
   "outputs": [],
   "source": [
    "import pandas as pd\n",
    "import csv\n",
    "from datetime import datetime\n",
    "import time\n"
   ]
  },
  {
   "cell_type": "code",
   "execution_count": 2,
   "metadata": {},
   "outputs": [],
   "source": [
    "train = pd.read_csv('train1.csv')\n",
    "test = pd.read_csv('test.csv')"
   ]
  },
  {
   "cell_type": "code",
   "execution_count": 52,
   "metadata": {},
   "outputs": [],
   "source": [
    "a = test[test['session']==13099709]"
   ]
  },
  {
   "cell_type": "code",
   "execution_count": 63,
   "metadata": {},
   "outputs": [
    {
     "ename": "OSError",
     "evalue": "[Errno 22] Invalid argument",
     "output_type": "error",
     "traceback": [
      "\u001b[1;31m---------------------------------------------------------------------------\u001b[0m",
      "\u001b[1;31mOSError\u001b[0m                                   Traceback (most recent call last)",
      "\u001b[1;32md:\\캐글\\2.ipynb Cell 4\u001b[0m in \u001b[0;36m<cell line: 1>\u001b[1;34m()\u001b[0m\n\u001b[1;32m----> <a href='vscode-notebook-cell:/d%3A/%EC%BA%90%EA%B8%80/2.ipynb#X10sZmlsZQ%3D%3D?line=0'>1</a>\u001b[0m \u001b[39mprint\u001b[39m(time\u001b[39m.\u001b[39mstrftime(\u001b[39m\"\u001b[39m\u001b[39m%\u001b[39m\u001b[39mY-\u001b[39m\u001b[39m%\u001b[39m\u001b[39mm-\u001b[39m\u001b[39m%d\u001b[39;00m\u001b[39m \u001b[39m\u001b[39m%\u001b[39m\u001b[39mH:\u001b[39m\u001b[39m%\u001b[39m\u001b[39mM:\u001b[39m\u001b[39m%\u001b[39m\u001b[39mS\u001b[39m\u001b[39m\"\u001b[39m, time\u001b[39m.\u001b[39;49mlocaltime(\u001b[39mint\u001b[39;49m(\u001b[39m1661795824262\u001b[39;49m))))\n",
      "\u001b[1;31mOSError\u001b[0m: [Errno 22] Invalid argument"
     ]
    }
   ],
   "source": [
    "print(time.strftime(\"%Y-%m-%d %H:%M:%S\", time.localtime(int(1661795824262))))"
   ]
  },
  {
   "cell_type": "code",
   "execution_count": 64,
   "metadata": {},
   "outputs": [
    {
     "data": {
      "text/plain": [
       "1673457526.354807"
      ]
     },
     "execution_count": 64,
     "metadata": {},
     "output_type": "execute_result"
    }
   ],
   "source": [
    "time.time()"
   ]
  },
  {
   "cell_type": "code",
   "execution_count": 53,
   "metadata": {},
   "outputs": [
    {
     "data": {
      "text/html": [
       "<div>\n",
       "<style scoped>\n",
       "    .dataframe tbody tr th:only-of-type {\n",
       "        vertical-align: middle;\n",
       "    }\n",
       "\n",
       "    .dataframe tbody tr th {\n",
       "        vertical-align: top;\n",
       "    }\n",
       "\n",
       "    .dataframe thead th {\n",
       "        text-align: right;\n",
       "    }\n",
       "</style>\n",
       "<table border=\"1\" class=\"dataframe\">\n",
       "  <thead>\n",
       "    <tr style=\"text-align: right;\">\n",
       "      <th></th>\n",
       "      <th>session</th>\n",
       "      <th>aid</th>\n",
       "      <th>ts</th>\n",
       "      <th>type</th>\n",
       "    </tr>\n",
       "  </thead>\n",
       "  <tbody>\n",
       "    <tr>\n",
       "      <th>927869</th>\n",
       "      <td>13099709</td>\n",
       "      <td>1440858</td>\n",
       "      <td>1661795824262</td>\n",
       "      <td>clicks</td>\n",
       "    </tr>\n",
       "    <tr>\n",
       "      <th>927870</th>\n",
       "      <td>13099709</td>\n",
       "      <td>436247</td>\n",
       "      <td>1661797942924</td>\n",
       "      <td>clicks</td>\n",
       "    </tr>\n",
       "    <tr>\n",
       "      <th>927871</th>\n",
       "      <td>13099709</td>\n",
       "      <td>714968</td>\n",
       "      <td>1661797967593</td>\n",
       "      <td>clicks</td>\n",
       "    </tr>\n",
       "    <tr>\n",
       "      <th>927872</th>\n",
       "      <td>13099709</td>\n",
       "      <td>714968</td>\n",
       "      <td>1661797975171</td>\n",
       "      <td>carts</td>\n",
       "    </tr>\n",
       "    <tr>\n",
       "      <th>927873</th>\n",
       "      <td>13099709</td>\n",
       "      <td>714968</td>\n",
       "      <td>1661798033996</td>\n",
       "      <td>orders</td>\n",
       "    </tr>\n",
       "    <tr>\n",
       "      <th>927874</th>\n",
       "      <td>13099709</td>\n",
       "      <td>1052515</td>\n",
       "      <td>1661810241969</td>\n",
       "      <td>clicks</td>\n",
       "    </tr>\n",
       "    <tr>\n",
       "      <th>927875</th>\n",
       "      <td>13099709</td>\n",
       "      <td>274204</td>\n",
       "      <td>1661810288959</td>\n",
       "      <td>clicks</td>\n",
       "    </tr>\n",
       "  </tbody>\n",
       "</table>\n",
       "</div>"
      ],
      "text/plain": [
       "         session      aid             ts    type\n",
       "927869  13099709  1440858  1661795824262  clicks\n",
       "927870  13099709   436247  1661797942924  clicks\n",
       "927871  13099709   714968  1661797967593  clicks\n",
       "927872  13099709   714968  1661797975171   carts\n",
       "927873  13099709   714968  1661798033996  orders\n",
       "927874  13099709  1052515  1661810241969  clicks\n",
       "927875  13099709   274204  1661810288959  clicks"
      ]
     },
     "execution_count": 53,
     "metadata": {},
     "output_type": "execute_result"
    }
   ],
   "source": [
    "a"
   ]
  },
  {
   "cell_type": "code",
   "execution_count": 13,
   "metadata": {},
   "outputs": [
    {
     "data": {
      "text/plain": [
       "array(['0', 'carts', 'orders'], dtype=object)"
      ]
     },
     "execution_count": 13,
     "metadata": {},
     "output_type": "execute_result"
    }
   ],
   "source": [
    "train.type.unique()"
   ]
  },
  {
   "cell_type": "code",
   "execution_count": 16,
   "metadata": {},
   "outputs": [],
   "source": [
    "train['type'] = train['type'].str.replace('clicks','0', )\n",
    "train['type'] = train['type'].str.replace('carts','1', )\n",
    "train['type'] = train['type'].str.replace('orders','2', )\n",
    "\n",
    "test['type'] = test['type'].str.replace('clicks','0', )\n",
    "test['type'] = test['type'].str.replace('carts','1', )\n",
    "test['type'] = test['type'].str.replace('orders','2', )"
   ]
  },
  {
   "cell_type": "code",
   "execution_count": 17,
   "metadata": {},
   "outputs": [
    {
     "data": {
      "text/plain": [
       "array(['0', '1', '2'], dtype=object)"
      ]
     },
     "execution_count": 17,
     "metadata": {},
     "output_type": "execute_result"
    }
   ],
   "source": [
    "train.type.unique()"
   ]
  },
  {
   "cell_type": "code",
   "execution_count": 65,
   "metadata": {},
   "outputs": [
    {
     "data": {
      "text/html": [
       "<div>\n",
       "<style scoped>\n",
       "    .dataframe tbody tr th:only-of-type {\n",
       "        vertical-align: middle;\n",
       "    }\n",
       "\n",
       "    .dataframe tbody tr th {\n",
       "        vertical-align: top;\n",
       "    }\n",
       "\n",
       "    .dataframe thead th {\n",
       "        text-align: right;\n",
       "    }\n",
       "</style>\n",
       "<table border=\"1\" class=\"dataframe\">\n",
       "  <thead>\n",
       "    <tr style=\"text-align: right;\">\n",
       "      <th></th>\n",
       "      <th>session</th>\n",
       "      <th>aid</th>\n",
       "      <th>ts</th>\n",
       "      <th>type</th>\n",
       "      <th>minutes</th>\n",
       "    </tr>\n",
       "  </thead>\n",
       "  <tbody>\n",
       "    <tr>\n",
       "      <th>0</th>\n",
       "      <td>0</td>\n",
       "      <td>1517085</td>\n",
       "      <td>1659304800025</td>\n",
       "      <td>clicks</td>\n",
       "      <td>1.741433</td>\n",
       "    </tr>\n",
       "    <tr>\n",
       "      <th>1</th>\n",
       "      <td>0</td>\n",
       "      <td>1563459</td>\n",
       "      <td>1659304904511</td>\n",
       "      <td>clicks</td>\n",
       "      <td>1042.248583</td>\n",
       "    </tr>\n",
       "    <tr>\n",
       "      <th>2</th>\n",
       "      <td>0</td>\n",
       "      <td>1309446</td>\n",
       "      <td>1659367439426</td>\n",
       "      <td>clicks</td>\n",
       "      <td>4.676183</td>\n",
       "    </tr>\n",
       "    <tr>\n",
       "      <th>3</th>\n",
       "      <td>0</td>\n",
       "      <td>16246</td>\n",
       "      <td>1659367719997</td>\n",
       "      <td>clicks</td>\n",
       "      <td>2.522450</td>\n",
       "    </tr>\n",
       "    <tr>\n",
       "      <th>4</th>\n",
       "      <td>0</td>\n",
       "      <td>1781822</td>\n",
       "      <td>1659367871344</td>\n",
       "      <td>clicks</td>\n",
       "      <td>0.240867</td>\n",
       "    </tr>\n",
       "    <tr>\n",
       "      <th>...</th>\n",
       "      <td>...</td>\n",
       "      <td>...</td>\n",
       "      <td>...</td>\n",
       "      <td>...</td>\n",
       "      <td>...</td>\n",
       "    </tr>\n",
       "    <tr>\n",
       "      <th>39889595</th>\n",
       "      <td>999999</td>\n",
       "      <td>53921</td>\n",
       "      <td>1659464388426</td>\n",
       "      <td>clicks</td>\n",
       "      <td>0.567350</td>\n",
       "    </tr>\n",
       "    <tr>\n",
       "      <th>39889596</th>\n",
       "      <td>999999</td>\n",
       "      <td>729903</td>\n",
       "      <td>1659464422467</td>\n",
       "      <td>clicks</td>\n",
       "      <td>0.885833</td>\n",
       "    </tr>\n",
       "    <tr>\n",
       "      <th>39889597</th>\n",
       "      <td>999999</td>\n",
       "      <td>53921</td>\n",
       "      <td>1659464475617</td>\n",
       "      <td>clicks</td>\n",
       "      <td>5.888133</td>\n",
       "    </tr>\n",
       "    <tr>\n",
       "      <th>39889598</th>\n",
       "      <td>999999</td>\n",
       "      <td>1839535</td>\n",
       "      <td>1659464828905</td>\n",
       "      <td>clicks</td>\n",
       "      <td>24457.408350</td>\n",
       "    </tr>\n",
       "    <tr>\n",
       "      <th>39889599</th>\n",
       "      <td>999999</td>\n",
       "      <td>31572</td>\n",
       "      <td>1660932273406</td>\n",
       "      <td>clicks</td>\n",
       "      <td>NaN</td>\n",
       "    </tr>\n",
       "  </tbody>\n",
       "</table>\n",
       "<p>39889600 rows × 5 columns</p>\n",
       "</div>"
      ],
      "text/plain": [
       "          session      aid             ts    type       minutes\n",
       "0               0  1517085  1659304800025  clicks      1.741433\n",
       "1               0  1563459  1659304904511  clicks   1042.248583\n",
       "2               0  1309446  1659367439426  clicks      4.676183\n",
       "3               0    16246  1659367719997  clicks      2.522450\n",
       "4               0  1781822  1659367871344  clicks      0.240867\n",
       "...           ...      ...            ...     ...           ...\n",
       "39889595   999999    53921  1659464388426  clicks      0.567350\n",
       "39889596   999999   729903  1659464422467  clicks      0.885833\n",
       "39889597   999999    53921  1659464475617  clicks      5.888133\n",
       "39889598   999999  1839535  1659464828905  clicks  24457.408350\n",
       "39889599   999999    31572  1660932273406  clicks           NaN\n",
       "\n",
       "[39889600 rows x 5 columns]"
      ]
     },
     "execution_count": 65,
     "metadata": {},
     "output_type": "execute_result"
    }
   ],
   "source": [
    "train[\"minutes\"] = train[[\"session\", \"ts\"]].groupby(\"session\").diff(-1)*(-1/1000/60)\n",
    "train"
   ]
  },
  {
   "cell_type": "code",
   "execution_count": null,
   "metadata": {},
   "outputs": [],
   "source": []
  }
 ],
 "metadata": {
  "kernelspec": {
   "display_name": "base",
   "language": "python",
   "name": "python3"
  },
  "language_info": {
   "codemirror_mode": {
    "name": "ipython",
    "version": 3
   },
   "file_extension": ".py",
   "mimetype": "text/x-python",
   "name": "python",
   "nbconvert_exporter": "python",
   "pygments_lexer": "ipython3",
   "version": "3.9.12"
  },
  "orig_nbformat": 4,
  "vscode": {
   "interpreter": {
    "hash": "dbce3ab015948f9d7a38d0a4c6629e1339f6d90306f3d65fd7273a0ce3b29204"
   }
  }
 },
 "nbformat": 4,
 "nbformat_minor": 2
}
